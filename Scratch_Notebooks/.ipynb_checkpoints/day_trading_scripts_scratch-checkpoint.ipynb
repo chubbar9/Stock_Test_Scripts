{
 "cells": [
  {
   "cell_type": "code",
   "execution_count": 11,
   "metadata": {},
   "outputs": [],
   "source": [
    "import pandas as pd\n",
    "import numpy as np\n",
    "import matplotlib as plt\n",
    "\n",
    "#volume needed\n",
    "volume = list(range(0,10000, 1))\n",
    "\n",
    "#This script tells you how many shares you need to purchase to best dilute a loss\n",
    "def dilute_losses(initial_volume, initial_price, current_price):\n",
    "    for i in volume:\n",
    "        a = ((i * current_price) + (initial_volume * initial_price)) / (i + initial_volume)\n",
    "        if a < (current_price + 0.01):\n",
    "            print(i, 'new shares at a price of $', current_price, 'need to be purchased to mostly dilute your losses')\n",
    "            break\n",
    "       \n",
    "            "
   ]
  },
  {
   "cell_type": "code",
   "execution_count": 2,
   "metadata": {},
   "outputs": [
    {
     "data": {
      "text/plain": [
       "0.4090909090909091"
      ]
     },
     "execution_count": 2,
     "metadata": {},
     "output_type": "execute_result"
    }
   ],
   "source": [
    "((1000 * 0.4) + (100 * 0.5)) / (1000 + 100)"
   ]
  },
  {
   "cell_type": "code",
   "execution_count": 13,
   "metadata": {},
   "outputs": [
    {
     "name": "stdout",
     "output_type": "stream",
     "text": [
      "1901 new shares at a price of $ 0.3 need to be purchased to mostly dilute your losses\n"
     ]
    }
   ],
   "source": [
    "dilute_losses(100,.5,.3)"
   ]
  }
 ],
 "metadata": {
  "kernelspec": {
   "display_name": "Python 3",
   "language": "python",
   "name": "python3"
  },
  "language_info": {
   "codemirror_mode": {
    "name": "ipython",
    "version": 3
   },
   "file_extension": ".py",
   "mimetype": "text/x-python",
   "name": "python",
   "nbconvert_exporter": "python",
   "pygments_lexer": "ipython3",
   "version": "3.7.6"
  }
 },
 "nbformat": 4,
 "nbformat_minor": 4
}
