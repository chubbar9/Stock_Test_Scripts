{
 "cells": [
  {
   "cell_type": "code",
   "execution_count": 14,
   "metadata": {},
   "outputs": [],
   "source": [
    "import pandas as pd\n",
    "import numpy as np\n",
    "import yfinance as yf\n",
    "import matplotlib as plt\n",
    "\n",
    "#volume needed\n",
    "volume = list(range(0,100000, 1))\n",
    "\n",
    "#This script tells you how many shares you need to purchase to dilute a loss\n",
    "def dilute_losses(initial_volume, initial_price, current_price):\n",
    "    ### Inputs and outputs\n",
    "    #param initial_volume: the initial number of shares purchased\n",
    "    #param initial_price: the inital price paid per share\n",
    "    #param current_price: the current stock price\n",
    "    #output: the number of shares needed to dilute the price and how much that would cost\n",
    "    ###\n",
    "    for i in volume:\n",
    "        a = ((i * current_price) + (initial_volume * initial_price)) / (i + initial_volume)\n",
    "        if a < (current_price + 0.01):\n",
    "            print(i, 'new shares at a price of $', current_price, 'need to be purchased to mostly dilute your losses. This will cost roughly $',int(i * current_price))\n",
    "            break\n",
    "           "
   ]
  },
  {
   "cell_type": "code",
   "execution_count": 8,
   "metadata": {},
   "outputs": [
    {
     "name": "stdout",
     "output_type": "stream",
     "text": [
      "940 new shares at a price of $ 0.2389 need to be purchased to mostly dilute your losses. This will cost roughly $ 224\n"
     ]
    }
   ],
   "source": [
    "dilute_losses(100,0.3428,.2389)"
   ]
  },
  {
   "cell_type": "code",
   "execution_count": 3,
   "metadata": {},
   "outputs": [],
   "source": [
    "#This script tells you the price per share to obtain a desired value\n",
    "def new_price(initial_volume, initial_price, desired_value):\n",
    "    ### Inputs and outputs\n",
    "    #param initial_volume: the initial number of shares purchased\n",
    "    #param initial_price: the inital price paid per share\n",
    "    #param desired_value: the desired value of your holding\n",
    "    #output: the stock price needed to achieve a given value and how much a stock needs to go up\n",
    "    ###\n",
    "    current_value = initial_volume * initial_price\n",
    "    new_price = desired_value / initial_volume\n",
    "    print('To obtain a desired value of $', desired_value, 'the price needs to go up to $', new_price, 'a change of $',\n",
    "         new_price - initial_price)"
   ]
  },
  {
   "cell_type": "code",
   "execution_count": 4,
   "metadata": {},
   "outputs": [
    {
     "name": "stdout",
     "output_type": "stream",
     "text": [
      "To obtain a desired value of $ 100 the price needs to go up to $ 1.0 a change of $ 0.5\n",
      "To obtain a desired value of $ 200 the price needs to go up to $ 2.0 a change of $ 1.5\n"
     ]
    }
   ],
   "source": [
    "new_price(100, 0.5, 100)\n",
    "new_price(100, 0.5, 200)"
   ]
  },
  {
   "cell_type": "code",
   "execution_count": 5,
   "metadata": {},
   "outputs": [],
   "source": [
    "#This script tells you how much of your profit needs to go to taxes, reinvestment, and savings\n",
    "def distribution_of_profits(profit):\n",
    "    print('$', profit * 0.4, 'needs to go to taxes')\n",
    "    print('$', profit * 0.3, 'needs to go to reinvestment')\n",
    "    print('$', profit * 0.3, 'needs to go to savings')"
   ]
  },
  {
   "cell_type": "code",
   "execution_count": 6,
   "metadata": {},
   "outputs": [
    {
     "name": "stdout",
     "output_type": "stream",
     "text": [
      "$ 40.0 needs to go to taxes\n",
      "$ 30.0 needs to go to reinvestment\n",
      "$ 30.0 needs to go to savings\n"
     ]
    }
   ],
   "source": [
    "distribution_of_profits(100)"
   ]
  },
  {
   "cell_type": "code",
   "execution_count": 61,
   "metadata": {},
   "outputs": [],
   "source": [
    "#Connecting to yFinance and create a ticker dataframe\n",
    "\n",
    "\n",
    "def create_ticker_df(ticker_symbols, start_date, end_date):\n",
    "    ### Inputs and outputs\n",
    "    #param ticker_symbols: a single or list of ticker symbols\n",
    "    #param start_date: date in YYYY-M-D\n",
    "    #param end_date: date in YYYY-M-D\n",
    "    #output dataframe \n",
    "    ticker_df = []\n",
    "    for i in ticker_symbols:\n",
    "        temp_tick = yf.Ticker(i)\n",
    "        temp_df = temp_tick.history(period='1d', start=start_date, end=end_date)\n",
    "        temp_df['ticker'] = i\n",
    "        ticker_df.append(temp_df)\n",
    "    ticker_df = pd.concat(ticker_df, axis=0)\n",
    "    return(ticker_df)"
   ]
  },
  {
   "cell_type": "code",
   "execution_count": 65,
   "metadata": {},
   "outputs": [
    {
     "data": {
      "text/html": [
       "<div>\n",
       "<style scoped>\n",
       "    .dataframe tbody tr th:only-of-type {\n",
       "        vertical-align: middle;\n",
       "    }\n",
       "\n",
       "    .dataframe tbody tr th {\n",
       "        vertical-align: top;\n",
       "    }\n",
       "\n",
       "    .dataframe thead th {\n",
       "        text-align: right;\n",
       "    }\n",
       "</style>\n",
       "<table border=\"1\" class=\"dataframe\">\n",
       "  <thead>\n",
       "    <tr style=\"text-align: right;\">\n",
       "      <th></th>\n",
       "      <th>Open</th>\n",
       "      <th>High</th>\n",
       "      <th>Low</th>\n",
       "      <th>Close</th>\n",
       "      <th>Volume</th>\n",
       "      <th>Dividends</th>\n",
       "      <th>Stock Splits</th>\n",
       "      <th>ticker</th>\n",
       "    </tr>\n",
       "    <tr>\n",
       "      <th>Date</th>\n",
       "      <th></th>\n",
       "      <th></th>\n",
       "      <th></th>\n",
       "      <th></th>\n",
       "      <th></th>\n",
       "      <th></th>\n",
       "      <th></th>\n",
       "      <th></th>\n",
       "    </tr>\n",
       "  </thead>\n",
       "  <tbody>\n",
       "    <tr>\n",
       "      <th>2020-04-01</th>\n",
       "      <td>0.17</td>\n",
       "      <td>0.57</td>\n",
       "      <td>0.17</td>\n",
       "      <td>0.20</td>\n",
       "      <td>50885400</td>\n",
       "      <td>0</td>\n",
       "      <td>0</td>\n",
       "      <td>MVIS</td>\n",
       "    </tr>\n",
       "    <tr>\n",
       "      <th>2020-04-02</th>\n",
       "      <td>0.22</td>\n",
       "      <td>0.33</td>\n",
       "      <td>0.20</td>\n",
       "      <td>0.22</td>\n",
       "      <td>18164100</td>\n",
       "      <td>0</td>\n",
       "      <td>0</td>\n",
       "      <td>MVIS</td>\n",
       "    </tr>\n",
       "    <tr>\n",
       "      <th>2020-04-03</th>\n",
       "      <td>0.23</td>\n",
       "      <td>0.24</td>\n",
       "      <td>0.19</td>\n",
       "      <td>0.21</td>\n",
       "      <td>3675000</td>\n",
       "      <td>0</td>\n",
       "      <td>0</td>\n",
       "      <td>MVIS</td>\n",
       "    </tr>\n",
       "    <tr>\n",
       "      <th>2020-04-06</th>\n",
       "      <td>0.21</td>\n",
       "      <td>0.27</td>\n",
       "      <td>0.19</td>\n",
       "      <td>0.22</td>\n",
       "      <td>5805200</td>\n",
       "      <td>0</td>\n",
       "      <td>0</td>\n",
       "      <td>MVIS</td>\n",
       "    </tr>\n",
       "    <tr>\n",
       "      <th>2020-04-07</th>\n",
       "      <td>0.23</td>\n",
       "      <td>0.23</td>\n",
       "      <td>0.21</td>\n",
       "      <td>0.23</td>\n",
       "      <td>2155200</td>\n",
       "      <td>0</td>\n",
       "      <td>0</td>\n",
       "      <td>MVIS</td>\n",
       "    </tr>\n",
       "  </tbody>\n",
       "</table>\n",
       "</div>"
      ],
      "text/plain": [
       "            Open  High   Low  Close    Volume  Dividends  Stock Splits ticker\n",
       "Date                                                                         \n",
       "2020-04-01  0.17  0.57  0.17   0.20  50885400          0             0   MVIS\n",
       "2020-04-02  0.22  0.33  0.20   0.22  18164100          0             0   MVIS\n",
       "2020-04-03  0.23  0.24  0.19   0.21   3675000          0             0   MVIS\n",
       "2020-04-06  0.21  0.27  0.19   0.22   5805200          0             0   MVIS\n",
       "2020-04-07  0.23  0.23  0.21   0.23   2155200          0             0   MVIS"
      ]
     },
     "execution_count": 65,
     "metadata": {},
     "output_type": "execute_result"
    }
   ],
   "source": [
    "create_ticker_df(['MVIS','F'],'2020-4-1','2020-5-08').head()"
   ]
  },
  {
   "cell_type": "code",
   "execution_count": null,
   "metadata": {},
   "outputs": [],
   "source": []
  }
 ],
 "metadata": {
  "kernelspec": {
   "display_name": "Python 3",
   "language": "python",
   "name": "python3"
  },
  "language_info": {
   "codemirror_mode": {
    "name": "ipython",
    "version": 3
   },
   "file_extension": ".py",
   "mimetype": "text/x-python",
   "name": "python",
   "nbconvert_exporter": "python",
   "pygments_lexer": "ipython3",
   "version": "3.7.6"
  }
 },
 "nbformat": 4,
 "nbformat_minor": 4
}
